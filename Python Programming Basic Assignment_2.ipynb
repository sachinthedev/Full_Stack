{
 "cells": [
  {
   "cell_type": "code",
   "execution_count": 1,
   "metadata": {},
   "outputs": [],
   "source": [
    "#1 Write a Python program to convert kilometers to miles?"
   ]
  },
  {
   "cell_type": "code",
   "execution_count": 2,
   "metadata": {},
   "outputs": [
    {
     "name": "stdout",
     "output_type": "stream",
     "text": [
      "Enter the Kilometers: 2\n",
      "Converted Miles:  1.242742\n"
     ]
    }
   ],
   "source": [
    "km=int(input(\"Enter the Kilometers: \"))\n",
    "miles=km*0.621371\n",
    "print(\"Converted Miles: \",miles)"
   ]
  },
  {
   "cell_type": "code",
   "execution_count": 3,
   "metadata": {},
   "outputs": [],
   "source": [
    "# 2. Write a Python program to convert Celsius to Fahrenheit?"
   ]
  },
  {
   "cell_type": "code",
   "execution_count": 4,
   "metadata": {},
   "outputs": [
    {
     "name": "stdout",
     "output_type": "stream",
     "text": [
      "Enter the Celsius Temp: 24\n",
      "Fahrenheit Temp:  75.2\n"
     ]
    }
   ],
   "source": [
    "cel=int(input(\"Enter the Celsius Temp: \"))\n",
    "fah=(cel*(9/5))+32\n",
    "print(\"Fahrenheit Temp: \",fah)"
   ]
  },
  {
   "cell_type": "code",
   "execution_count": 5,
   "metadata": {},
   "outputs": [],
   "source": [
    "# 3. Write a Python program to display calendar?"
   ]
  },
  {
   "cell_type": "code",
   "execution_count": 6,
   "metadata": {},
   "outputs": [
    {
     "name": "stdout",
     "output_type": "stream",
     "text": [
      "Enter the year: 2021\n",
      "Enter the month number: 4\n",
      "     April 2021\n",
      "Mo Tu We Th Fr Sa Su\n",
      "          1  2  3  4\n",
      " 5  6  7  8  9 10 11\n",
      "12 13 14 15 16 17 18\n",
      "19 20 21 22 23 24 25\n",
      "26 27 28 29 30\n",
      "\n"
     ]
    }
   ],
   "source": [
    "import calendar\n",
    "year= int(input(\"Enter the year: \"))\n",
    "month= int(input(\"Enter the month number: \"))\n",
    "print(calendar.month(year,month))"
   ]
  },
  {
   "cell_type": "code",
   "execution_count": 7,
   "metadata": {},
   "outputs": [],
   "source": [
    "# 4. Write a Python program to solve quadratic equation?"
   ]
  },
  {
   "cell_type": "code",
   "execution_count": 8,
   "metadata": {},
   "outputs": [
    {
     "name": "stdout",
     "output_type": "stream",
     "text": [
      "Enter the value of a: 10\n",
      "Enter the value of b: 10\n",
      "Enter the value of c: 24\n",
      "The sol are (-0.5-1.466287829861518j) and (-0.5+1.466287829861518j)\n"
     ]
    }
   ],
   "source": [
    "a=int(input(\"Enter the value of a: \"))\n",
    "b=int(input(\"Enter the value of b: \"))\n",
    "c=int(input(\"Enter the value of c: \"))\n",
    "\n",
    "import cmath\n",
    "import math\n",
    "value=(b ** 2) - (4 * a * c)\n",
    "if a==0:\n",
    "    print(\"Incorrect Quadratic equation value of a cannot be zero\")\n",
    "else:\n",
    "    if value<0:\n",
    "        ans_1=(-b-cmath.sqrt(value))/(2*a)\n",
    "        ans_2=(-b+cmath.sqrt(value))/(2*a)\n",
    "        print(\"The sol are {0} and {1}\".format(ans_1,ans_2))        \n",
    "    elif value==0:\n",
    "        ans_1=(-b)/(2*a)\n",
    "        print(\"The sol is {0}\".format(ans_1))\n",
    "    else:\n",
    "        ans_1=(-b-math.sqrt(value))/(2*a)\n",
    "        ans_2=(-b+math.sqrt(value))/(2*a)\n",
    "        print(\"The sol are {0} and {1}\".format(ans_1,ans_2))        \n"
   ]
  },
  {
   "cell_type": "code",
   "execution_count": 9,
   "metadata": {},
   "outputs": [],
   "source": [
    "# 5. Write a Python program to swap two variables without temp variable"
   ]
  },
  {
   "cell_type": "code",
   "execution_count": 10,
   "metadata": {},
   "outputs": [
    {
     "name": "stdout",
     "output_type": "stream",
     "text": [
      "Enter the value of a: 23\n",
      "Enter the value of b: 57\n",
      "Value of a:  57\n",
      "Value of b:  23\n"
     ]
    }
   ],
   "source": [
    "a=int(input(\"Enter the value of a: \"))\n",
    "b=int(input(\"Enter the value of b: \"))\n",
    "a,b=b,a\n",
    "print(\"Value of a: \",a)\n",
    "print(\"Value of b: \",b)"
   ]
  },
  {
   "cell_type": "code",
   "execution_count": null,
   "metadata": {},
   "outputs": [],
   "source": []
  }
 ],
 "metadata": {
  "kernelspec": {
   "display_name": "Python 3",
   "language": "python",
   "name": "python3"
  },
  "language_info": {
   "codemirror_mode": {
    "name": "ipython",
    "version": 3
   },
   "file_extension": ".py",
   "mimetype": "text/x-python",
   "name": "python",
   "nbconvert_exporter": "python",
   "pygments_lexer": "ipython3",
   "version": "3.8.3"
  }
 },
 "nbformat": 4,
 "nbformat_minor": 4
}
