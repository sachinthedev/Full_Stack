{
 "cells": [
  {
   "cell_type": "code",
   "execution_count": 1,
   "metadata": {},
   "outputs": [],
   "source": [
    "# 1. Write a Python Program to Find the Factorial of a Number?"
   ]
  },
  {
   "cell_type": "code",
   "execution_count": 2,
   "metadata": {},
   "outputs": [
    {
     "name": "stdout",
     "output_type": "stream",
     "text": [
      "Enter the number to find the factorial: 7\n",
      "5040\n"
     ]
    }
   ],
   "source": [
    "a= int(input(\"Enter the number to find the factorial: \"))\n",
    "ans=1\n",
    "if a==0:\n",
    "    print(1)\n",
    "else:\n",
    "    for i in range(1,a+1):\n",
    "        ans=ans*i\n",
    "    print(ans)"
   ]
  },
  {
   "cell_type": "code",
   "execution_count": 3,
   "metadata": {},
   "outputs": [],
   "source": [
    "# 2. Write a Python Program to Display the multiplication Table?"
   ]
  },
  {
   "cell_type": "code",
   "execution_count": 4,
   "metadata": {},
   "outputs": [
    {
     "name": "stdout",
     "output_type": "stream",
     "text": [
      "Enter the number: 15\n",
      "15 * 1 = 15\n",
      "15 * 2 = 30\n",
      "15 * 3 = 45\n",
      "15 * 4 = 60\n",
      "15 * 5 = 75\n",
      "15 * 6 = 90\n",
      "15 * 7 = 105\n",
      "15 * 8 = 120\n",
      "15 * 9 = 135\n",
      "15 * 10 = 150\n"
     ]
    }
   ],
   "source": [
    "a= int(input(\"Enter the number: \"))\n",
    "for i in range(1,11):\n",
    "    b=a*i\n",
    "    print(a,\"*\",i,\"=\",b)"
   ]
  },
  {
   "cell_type": "code",
   "execution_count": 5,
   "metadata": {},
   "outputs": [],
   "source": [
    "# 3. Write a Python Program to Print the Fibonacci sequence?"
   ]
  },
  {
   "cell_type": "code",
   "execution_count": 6,
   "metadata": {},
   "outputs": [
    {
     "name": "stdout",
     "output_type": "stream",
     "text": [
      "Enter the number till you want the Fibonacci Sequence: 23\n",
      "[0, 1, 1, 2, 3, 5, 8, 13, 21, 34, 55, 89, 144, 233, 377, 610, 987, 1597, 2584, 4181, 6765, 10946, 17711, 28657]\n"
     ]
    }
   ],
   "source": [
    "a=[0,1]\n",
    "b= int(input(\"Enter the number till you want the Fibonacci Sequence: \"))\n",
    "for i in range(2,b+1):\n",
    "    a.append(a[i-1]+a[i-2])\n",
    "print(a)"
   ]
  },
  {
   "cell_type": "code",
   "execution_count": 7,
   "metadata": {},
   "outputs": [],
   "source": [
    "# 4. Write a Python Program to Check Armstrong Number?"
   ]
  },
  {
   "cell_type": "code",
   "execution_count": 8,
   "metadata": {},
   "outputs": [
    {
     "name": "stdout",
     "output_type": "stream",
     "text": [
      "Enter the number: 153\n",
      "153 is an Armstrong Number\n"
     ]
    }
   ],
   "source": [
    "a=input(\"Enter the number: \")\n",
    "count=0\n",
    "for i in a:\n",
    "    count+=1\n",
    "get=0\n",
    "for i in a:\n",
    "    get=get+int(i)**count\n",
    "if int(a)==get:\n",
    "    print(\"{0} is an Armstrong Number\".format(a))\n",
    "else:\n",
    "    print(\"{0} is not an Armstrong Number\".format(a))"
   ]
  },
  {
   "cell_type": "code",
   "execution_count": 9,
   "metadata": {},
   "outputs": [],
   "source": [
    "# 5. Write a Python Program to Find Armstrong Number in an Interval?"
   ]
  },
  {
   "cell_type": "code",
   "execution_count": 10,
   "metadata": {},
   "outputs": [
    {
     "name": "stdout",
     "output_type": "stream",
     "text": [
      "Enter the first interval: 100\n",
      "Enter the last interval: 1000\n",
      "['153', '370', '371', '407']\n"
     ]
    }
   ],
   "source": [
    "first= int(input(\"Enter the first interval: \"))\n",
    "last= int(input(\"Enter the last interval: \"))\n",
    "lst=[]\n",
    "for i in range(first,last+1):\n",
    "    a=str(i)\n",
    "    count=0\n",
    "    for n in a:\n",
    "        count+=1\n",
    "    get=0\n",
    "    for x in a:\n",
    "        get=get+int(x)**count\n",
    "    if int(a)==get:\n",
    "        lst.append(a)\n",
    "print(lst)"
   ]
  },
  {
   "cell_type": "code",
   "execution_count": 11,
   "metadata": {},
   "outputs": [],
   "source": [
    "# 6. Write a Python Program to Find the Sum of Natural Numbers?"
   ]
  },
  {
   "cell_type": "code",
   "execution_count": 15,
   "metadata": {},
   "outputs": [
    {
     "name": "stdout",
     "output_type": "stream",
     "text": [
      "Enter the Natural Numbers: 1 2 3\n",
      "6\n"
     ]
    }
   ],
   "source": [
    "lst=list(map(int,input(\"Enter the Natural Numbers: \").split()))\n",
    "sum=0\n",
    "for i in lst:\n",
    "    sum=sum+i\n",
    "print(sum)\n"
   ]
  },
  {
   "cell_type": "code",
   "execution_count": null,
   "metadata": {},
   "outputs": [],
   "source": []
  }
 ],
 "metadata": {
  "kernelspec": {
   "display_name": "Python 3",
   "language": "python",
   "name": "python3"
  },
  "language_info": {
   "codemirror_mode": {
    "name": "ipython",
    "version": 3
   },
   "file_extension": ".py",
   "mimetype": "text/x-python",
   "name": "python",
   "nbconvert_exporter": "python",
   "pygments_lexer": "ipython3",
   "version": "3.8.3"
  }
 },
 "nbformat": 4,
 "nbformat_minor": 4
}
